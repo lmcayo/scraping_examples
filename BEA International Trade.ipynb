{
 "cells": [
  {
   "cell_type": "markdown",
   "metadata": {},
   "source": [
    "# Ejemplo 3: Comercio Internacional USA "
   ]
  },
  {
   "cell_type": "code",
   "execution_count": null,
   "metadata": {},
   "outputs": [],
   "source": [
    "import requests\n",
    "import pandas as pd\n",
    "from bs4 import BeautifulSoup"
   ]
  },
  {
   "cell_type": "markdown",
   "metadata": {},
   "source": [
    "Hacemos el request de la página para luego poder parsearla con BeutifulSoup.\n",
    "Si bien elegimos el 'html.parser', existen otras alternativas como 'lxml'"
   ]
  },
  {
   "cell_type": "code",
   "execution_count": null,
   "metadata": {},
   "outputs": [],
   "source": [
    "pagina = requests.get('https://www.bea.gov/data/intl-trade-investment/international-trade-goods-and-services')"
   ]
  },
  {
   "cell_type": "code",
   "execution_count": null,
   "metadata": {},
   "outputs": [],
   "source": [
    "soup = BeautifulSoup(pagina.content, 'html.parser')"
   ]
  },
  {
   "cell_type": "markdown",
   "metadata": {},
   "source": [
    "Luego de parsear la página, vamos a buscar todas las partes de la página que contenga links y quedarán guardados en una lista.\n",
    "\n",
    "Para poder ver cada una de esas partes, se puede iterar e imprimir el resultado.\n",
    "\n",
    "Como suponemos que el texto del link se va a mantener, utilizamos ese string ('U.S. Trade in Goods and Services, 1960-present') para traer el link actualizado para los próximos meses y lo guardamos en una variable (link_xls)."
   ]
  },
  {
   "cell_type": "code",
   "execution_count": null,
   "metadata": {},
   "outputs": [],
   "source": [
    "links = soup.find_all('a')"
   ]
  },
  {
   "cell_type": "code",
   "execution_count": null,
   "metadata": {},
   "outputs": [],
   "source": [
    "for link in links:\n",
    "    if 'U.S. Trade in Goods and Services, 1960-present' in link.get_text():\n",
    "        link_xls = 'https://www.bea.gov' + link.get('href')"
   ]
  },
  {
   "cell_type": "markdown",
   "metadata": {},
   "source": [
    "Como ya contamos con el link, hacemos la lectura del archivo directamente con Pandas.\n",
    "\n",
    "La hoja que nos interesa es la segunda por eso le indicamos 1 en sheet_name (también le podemos pasar el nombre de la hoja y no su posición).\n",
    "\n",
    "Como sabemos que las primeras filas no nos sirven, le pedimos que las omita."
   ]
  },
  {
   "cell_type": "code",
   "execution_count": null,
   "metadata": {},
   "outputs": [],
   "source": [
    "#Aca se puede hacer un request get o traerlo directamente con pandas\n",
    "df_bea = pd.read_excel(link_xls, engine='openpyxl', sheet_name=1, skiprows= 6, header = None)\n",
    "df_bea"
   ]
  },
  {
   "cell_type": "markdown",
   "metadata": {},
   "source": [
    "Vemos que el archivo tiene muchas celdas sin ningún contenido, por lo que podemos eliminar filas/columnas enteras que no contengan valores. \n",
    "\n",
    "Cada vez que eliminamos filas, es conveniente que hagamos un reset del índice."
   ]
  },
  {
   "cell_type": "code",
   "execution_count": null,
   "metadata": {},
   "outputs": [],
   "source": [
    "#Eliminamos las columnas con todos NaNs\n",
    "df_bea.dropna(how='all', axis=1, inplace=True)\n",
    "#Eliminamos las filas con todos NaNs\n",
    "df_bea.dropna(how='all', axis=0, inplace=True)\n",
    "df_bea.reset_index(drop=True, inplace=True)\n",
    "df_bea"
   ]
  },
  {
   "cell_type": "markdown",
   "metadata": {},
   "source": [
    "Como queremos renombrar las columnas de acuerdo a Balance, Exports e Imports según comprenda los bienes, servicios o ambos, podemos utilizar lo que ya está en las primeras filas.\n",
    "\n",
    "Completamos la primera fila."
   ]
  },
  {
   "cell_type": "code",
   "execution_count": null,
   "metadata": {},
   "outputs": [],
   "source": [
    "#Para completar los valores, se puede iterar e ir adjudicando ciertos valores\n",
    "for i in range(df_bea.shape[1]):\n",
    "    if df_bea.iloc[1, i] == 'Goods 1':\n",
    "        df_bea.iloc[0, i-1] = df_bea.iloc[0, i]\n",
    "        df_bea.iloc[0, i + 1] = df_bea.iloc[0, i]\n",
    "        \n",
    "#Otra alternativa\n",
    "# df_bea.iloc[0].fillna(method='bfill', limit=1, inplace=True)\n",
    "# df_bea.iloc[0].fillna(method='ffill', limit=1, inplace=True)\n",
    "df_bea"
   ]
  },
  {
   "cell_type": "markdown",
   "metadata": {},
   "source": [
    "Hacemos el cambio de los nombres de las columnas y luego determinamos en que fila comienzan los datos mensuales.\n",
    "\n",
    "Al contar con esa información procedemos a recortar el dataframe."
   ]
  },
  {
   "cell_type": "code",
   "execution_count": null,
   "metadata": {},
   "outputs": [],
   "source": [
    "#Renombramos las columnas y hacemos el drop de las 3 primeras filas\n",
    "df_bea.columns = df_bea.iloc[0] + ' - ' + df_bea.iloc[1]\n",
    "df_bea = df_bea.iloc[3:]\n",
    "#Al eliminar filas, conviene resetear el indice\n",
    "df_bea.reset_index(drop=True, inplace=True)"
   ]
  },
  {
   "cell_type": "code",
   "execution_count": null,
   "metadata": {},
   "outputs": [],
   "source": [
    "#Determino la fila en que comienzan los valores mensuales\n",
    "first_row =df_bea[df_bea[df_bea.columns[0]] == 'Monthly'].index[0]"
   ]
  },
  {
   "cell_type": "code",
   "execution_count": null,
   "metadata": {},
   "outputs": [],
   "source": [
    "df_bea = df_bea.iloc[first_row+1:]"
   ]
  },
  {
   "cell_type": "markdown",
   "metadata": {},
   "source": [
    "Luego de recortar el dataframe, renombramos la primera columna que corresponde a la fecha y hacemos ciertos reemplazos para eliminar espacios innecesarios o leyendas que impiden la identificación automatica de las fechas."
   ]
  },
  {
   "cell_type": "code",
   "execution_count": null,
   "metadata": {},
   "outputs": [],
   "source": [
    "df_bea.rename(columns={df_bea.columns[0]:'Date'}, inplace=True)"
   ]
  },
  {
   "cell_type": "code",
   "execution_count": null,
   "metadata": {},
   "outputs": [],
   "source": [
    "#En el mes de mayo aparece la leyenda \" (R)\", por lo que la reemplazamos\n",
    "df_bea['Date'] = df_bea['Date'].replace(' \\(R\\)', '', regex=True)\n",
    "#En ciertas filas hay espacios al final, por lo que tambien los limpiamos\n",
    "df_bea['Date'] = df_bea['Date'].str.strip()"
   ]
  },
  {
   "cell_type": "code",
   "execution_count": null,
   "metadata": {},
   "outputs": [],
   "source": [
    "df_bea.tail(10)"
   ]
  },
  {
   "cell_type": "markdown",
   "metadata": {},
   "source": [
    "Utilizamos la función '**to_datetime**' de pandas para que cambie las fechas a un formato de Año-Mes-Día. \n",
    "\n",
    "Es necesario indicarle cual es el formato que figura en la columna (en nuestro caso es el año y el nombre del mes abreviado).\n",
    "\n",
    "La indicación de '**coerce**' implica que ante la imposibilidad de identificar una fecha, nos devuelva un valor NaT."
   ]
  },
  {
   "cell_type": "code",
   "execution_count": null,
   "metadata": {},
   "outputs": [],
   "source": [
    "#Paso el formato a fecha\n",
    "#El formato de fecha es 'YYYY (abbreviated) month name'\n",
    "df_bea['Date'] = pd.to_datetime(df_bea['Date'], format= '%Y %b', errors='coerce')"
   ]
  },
  {
   "cell_type": "code",
   "execution_count": null,
   "metadata": {},
   "outputs": [],
   "source": [
    "df_bea.dropna(how='all', axis=0, inplace=True)"
   ]
  },
  {
   "cell_type": "markdown",
   "metadata": {},
   "source": [
    "Seteamos a la fecha como índice y le agregamos el país. Tener en cuenta que es necesario que estén ambas columnas (**Date** y **country**) para poder subir los datos a Alphacast."
   ]
  },
  {
   "cell_type": "code",
   "execution_count": null,
   "metadata": {},
   "outputs": [],
   "source": [
    "df_bea.set_index('Date', inplace=True)\n",
    "df_bea['country'] = 'USA'\n",
    "df_bea"
   ]
  },
  {
   "cell_type": "markdown",
   "metadata": {},
   "source": [
    "#### Ahora tenemos todo listo para poder subir nuestros datos utilizando la API de Alphacast."
   ]
  },
  {
   "cell_type": "code",
   "execution_count": null,
   "metadata": {},
   "outputs": [],
   "source": []
  }
 ],
 "metadata": {
  "kernelspec": {
   "display_name": "Python 3",
   "language": "python",
   "name": "python3"
  },
  "language_info": {
   "codemirror_mode": {
    "name": "ipython",
    "version": 3
   },
   "file_extension": ".py",
   "mimetype": "text/x-python",
   "name": "python",
   "nbconvert_exporter": "python",
   "pygments_lexer": "ipython3",
   "version": "3.6.8"
  }
 },
 "nbformat": 4,
 "nbformat_minor": 2
}
