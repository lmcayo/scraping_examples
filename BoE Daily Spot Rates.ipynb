{
 "cells": [
  {
   "cell_type": "markdown",
   "metadata": {},
   "source": [
    "# Ejemplo 1: Tipo de Cambio del Bank of England (BoE)"
   ]
  },
  {
   "cell_type": "markdown",
   "metadata": {},
   "source": [
    "Hacemos la carga de las librerias que vamos a utilizar"
   ]
  },
  {
   "cell_type": "code",
   "execution_count": null,
   "metadata": {},
   "outputs": [],
   "source": [
    "import requests\n",
    "import pandas as pd\n",
    "from datetime import datetime, timedelta"
   ]
  },
  {
   "cell_type": "markdown",
   "metadata": {},
   "source": [
    "Acá vamos a definir el período de inicio y de finalización de nuestro scraping. \n",
    "La función today genera la fecha de hoy y la de timedelta permite elegir cuantos periodos hacia atras vamos a considerar (entendiendo a periodo como horas, dias, meses, años)"
   ]
  },
  {
   "cell_type": "code",
   "execution_count": null,
   "metadata": {},
   "outputs": [],
   "source": [
    "fecha_inicio = datetime.today() - timedelta(days=30)\n",
    "\n",
    "fecha_fin = datetime.today() - timedelta(days=1)"
   ]
  },
  {
   "cell_type": "markdown",
   "metadata": {},
   "source": [
    "La funcion date_range de pandas nos va a permitir construir una lista de fechas al indicarle fecha de inicio y la fecha final. En este caso le pedimos que la frecuencia de los datos sean de lunes a viernes (B)"
   ]
  },
  {
   "cell_type": "code",
   "execution_count": null,
   "metadata": {},
   "outputs": [],
   "source": [
    "rango_fechas = pd.date_range(start=fecha_inicio, end=fecha_fin, freq='B')\n",
    "rango_fechas"
   ]
  },
  {
   "cell_type": "markdown",
   "metadata": {},
   "source": [
    "La pagina desde donde vamos a hacer el scraping es la siguiente:\\\n",
    "https://www.bankofengland.co.uk/boeapps/database/Rates.asp\n",
    "\n",
    "y al seleccionar el 26 de enero, nos redirige a la siguiente URL:\\\n",
    "https://www.bankofengland.co.uk/boeapps/database/Rates.asp?TD=26&TM=Jan&TY=2021&into=GBP&rateview=D\n",
    "\n",
    "Ahí podemos ver que cada valor despues del signo '**?**' se corresponde a nuestra elección en cada menú desplegable.\n",
    "\n",
    "- El día se encuentra en TD=26\n",
    "\n",
    "- El mes se encuentra en TM=Jan\n",
    "\n",
    "- El año se encuentra en TY=2021\n",
    "\n",
    "Podemos generar la lista de urls para después hacer las solicitudes a la página con las urls ya definidas. Para eso creamos una lista vacía y le vamos agregando cada una de las urls generadas con las especificaciones.\n",
    "La función strftime permite que cada objeto fecha pase a ser un string con cierto especificación:\n",
    "- %Y para año\n",
    "- %b mes abreviado\n",
    "- %d día"
   ]
  },
  {
   "cell_type": "code",
   "execution_count": null,
   "metadata": {},
   "outputs": [],
   "source": [
    "urls = []\n",
    "\n",
    "for fecha in rango_fechas:\n",
    "    urls.append('https://www.bankofengland.co.uk/boeapps/database/Rates.asp?TD=' + \n",
    "         fecha.strftime('%d') +\n",
    "        '&TM=' + fecha.strftime('%b') +\n",
    "        '&TY=' + fecha.strftime('%Y') +\n",
    "        '&into=GBP&rateview=D')\n",
    "urls"
   ]
  },
  {
   "cell_type": "markdown",
   "metadata": {},
   "source": [
    "Podemos tomar una de las urls generadas y verificar si pandas lee correctamente el contenido. Pandas puede leer csv, json, excel, xml y también formato html. La función read_html devuelve una lista de dataframes y en nuestro caso vamos a elegir el primer elemento ([0]) de esa lista."
   ]
  },
  {
   "cell_type": "code",
   "execution_count": null,
   "metadata": {},
   "outputs": [],
   "source": [
    "df = pd.read_html('https://www.bankofengland.co.uk/boeapps/database/Rates.asp?Travel=NIxAZx&into=GBP')[0]\n",
    "df"
   ]
  },
  {
   "cell_type": "markdown",
   "metadata": {},
   "source": [
    "Al ver que funciona correctamente en varias urls, podemos proceder a iterar sobre cada una de las direcciones y hacer la solicitud.\n",
    "La idea detrás de este proceso de iteración es:\n",
    "1. Hacer la solicitud con requests\n",
    "2. Si la pagina existe, leemos el contenido con pandas y nos traemos el primer dataframe.\n",
    "3. Eliminamos cualquier fila que tenga todos NaNs\n",
    "4. Nos quedamos con las 2 primeras columnas (Moneda y tipo de cambio)\n",
    "5. Renombramos las columnas y agregamos la fecha de ese día\n",
    "6. Luego tener todo formateado, vamos agregando secuencialmente cada dataframe a uno definitivo."
   ]
  },
  {
   "cell_type": "code",
   "execution_count": null,
   "metadata": {},
   "outputs": [],
   "source": [
    "for indice, url in enumerate(urls):\n",
    "    response = requests.get(url)\n",
    "    if response.status_code == 200:\n",
    "        df_temp = pd.read_html(response.content)[0]\n",
    "        \n",
    "        #Si ese día no hay datos (el dataframe no tiene filas)\n",
    "        if df_temp.shape[0] != 0:\n",
    "            df_temp.dropna(how='all', axis=1, inplace=True)\n",
    "\n",
    "            #Mantengo solamente las 2 primeras columnas\n",
    "            df_temp = df_temp.iloc[:, :2]\n",
    "\n",
    "            df_temp.columns = ['Currency', 'Rate Exchange']\n",
    "            df_temp['Date'] = pd.to_datetime(rango_fechas[indice].strftime('%Y-%m-%d'))\n",
    "\n",
    "            if indice == 0:\n",
    "                df = df_temp.copy()\n",
    "            else:\n",
    "                df = df.append(df_temp, ignore_index=True)\n",
    "        else:\n",
    "            pass\n",
    "    else:\n",
    "        pass"
   ]
  },
  {
   "cell_type": "markdown",
   "metadata": {},
   "source": [
    "El resultado de nuestro scraping es el siguiente dataframe"
   ]
  },
  {
   "cell_type": "code",
   "execution_count": null,
   "metadata": {},
   "outputs": [],
   "source": [
    "df"
   ]
  },
  {
   "cell_type": "code",
   "execution_count": null,
   "metadata": {},
   "outputs": [],
   "source": []
  }
 ],
 "metadata": {
  "kernelspec": {
   "display_name": "Python 3",
   "language": "python",
   "name": "python3"
  },
  "language_info": {
   "codemirror_mode": {
    "name": "ipython",
    "version": 3
   },
   "file_extension": ".py",
   "mimetype": "text/x-python",
   "name": "python",
   "nbconvert_exporter": "python",
   "pygments_lexer": "ipython3",
   "version": "3.6.8"
  }
 },
 "nbformat": 4,
 "nbformat_minor": 2
}
