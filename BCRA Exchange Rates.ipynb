{
 "cells": [
  {
   "cell_type": "markdown",
   "metadata": {},
   "source": [
    "# Ejemplo 2: Tipo de Cambio del BCRA"
   ]
  },
  {
   "cell_type": "markdown",
   "metadata": {},
   "source": [
    "El procedimiento es similar al ejemplo anterior, por lo que vamos a generar una lista de fechas, ya que la página\n",
    "http://www.bcra.gov.ar/PublicacionesEstadisticas/Cotizaciones_por_fecha.asp \\\n",
    "Nos permite extraer un día a la vez."
   ]
  },
  {
   "cell_type": "code",
   "execution_count": null,
   "metadata": {},
   "outputs": [],
   "source": [
    "import requests\n",
    "import pandas as pd\n",
    "from datetime import datetime, timedelta\n",
    "import io"
   ]
  },
  {
   "cell_type": "markdown",
   "metadata": {},
   "source": [
    "Generamos el listado de fechas indicando el inicio y el final del período."
   ]
  },
  {
   "cell_type": "code",
   "execution_count": null,
   "metadata": {},
   "outputs": [],
   "source": [
    "fecha_inicio = datetime.today() - timedelta(days=20)\n",
    "fecha_fin = datetime.today() - timedelta(days=1)\n",
    "fechas = pd.date_range(start=fecha_inicio, end=fecha_fin, freq='B')\n",
    "fechas"
   ]
  },
  {
   "cell_type": "markdown",
   "metadata": {},
   "source": [
    "Como la fecha se encuentra con la hora, es conveniente cambiar el formato de cada fecha para que quede como lo pide la página."
   ]
  },
  {
   "cell_type": "code",
   "execution_count": null,
   "metadata": {},
   "outputs": [],
   "source": [
    "fechas = [fecha.strftime('%d/%m/%Y') for fecha in fechas]\n",
    "fechas"
   ]
  },
  {
   "cell_type": "markdown",
   "metadata": {},
   "source": [
    "### Prueba con una sola fecha"
   ]
  },
  {
   "cell_type": "code",
   "execution_count": null,
   "metadata": {},
   "outputs": [],
   "source": [
    "url= 'http://www.bcra.gov.ar/PublicacionesEstadisticas/Cotizaciones_por_fecha_2.asp'\n",
    "post_data ={'pp1': '1', 'date2':fechas[3]}\n",
    "response = requests.post(url, data=post_data)"
   ]
  },
  {
   "cell_type": "markdown",
   "metadata": {},
   "source": [
    "Luego de recibir la respuesta, leemos la tabla con pandas. En este caso le vamos a indicar cuales son los separadores de miles y el simobolo de decimal"
   ]
  },
  {
   "cell_type": "code",
   "execution_count": null,
   "metadata": {},
   "outputs": [],
   "source": [
    "df = pd.read_html(io.BytesIO(response.content), decimal=',', thousands='.')[0]\n",
    "df"
   ]
  },
  {
   "cell_type": "markdown",
   "metadata": {},
   "source": [
    "En la tabla vemos que hay un título por encima del nombre de las columnas, por lo que tenemos que verificar si tiene un índice múltiple. \\\n",
    "Al verificar el nombre de las columnas, vemos que cada columna esta compuesta por una tupla.\\\n",
    "Es conveniente que los nombres de las columnas no queden como tuplas, por lo que hay que eliminar el índice múltiple (utilizamos la función droplevel)"
   ]
  },
  {
   "cell_type": "code",
   "execution_count": null,
   "metadata": {},
   "outputs": [],
   "source": [
    "#Verificamos si tienen multi index\n",
    "df.columns"
   ]
  },
  {
   "cell_type": "code",
   "execution_count": null,
   "metadata": {},
   "outputs": [],
   "source": [
    "#Para formatear un poco la tabla y que podamos recopilar varias (deben tener el mismo nombre de columna)\n",
    "#eliminamos el multi index\n",
    "#Conviene revisar como queda luego para ver que no perdimos una parte relevante del nombre de las columnas\n",
    "df.columns = df.columns.droplevel()\n",
    "df.columns"
   ]
  },
  {
   "cell_type": "code",
   "execution_count": null,
   "metadata": {},
   "outputs": [],
   "source": [
    "df"
   ]
  },
  {
   "cell_type": "markdown",
   "metadata": {},
   "source": [
    "Le agregamos la fecha al dataframe y verificamos como queda al final"
   ]
  },
  {
   "cell_type": "code",
   "execution_count": null,
   "metadata": {},
   "outputs": [],
   "source": [
    "#En esta parte le vamos a agregar una columna con la fecha\n",
    "df['Date'] = fechas[1]\n",
    "df.set_index('Date', inplace=True)\n",
    "\n",
    "df.head()"
   ]
  },
  {
   "cell_type": "markdown",
   "metadata": {},
   "source": [
    "## Recopilación de varias fechas\n",
    "\n",
    "Como en el ejemplo 1, vamos a iterar sobre las fechas y en cada iteración vamos a actualizar la post data.\\\n",
    "Luego de contar con la respuesta de la solicitud, hacemos la lectura del contenido de la página y aplicamos todas las correcciones que hicimos con una sola fecha.\n",
    "\n",
    "En este caso, es posible que la página nos muestre una tabla pero sin filas si para la fecha elegida no hubo cotizaciones, a pesar de ser un día de semana (por ejemplo, para un feriado). Por eso se le agrega la condición que la cantidad de filas sean diferente a 0.\n",
    "\n"
   ]
  },
  {
   "cell_type": "code",
   "execution_count": null,
   "metadata": {},
   "outputs": [],
   "source": [
    "url= 'http://www.bcra.gov.ar/PublicacionesEstadisticas/Cotizaciones_por_fecha_2.asp'\n",
    "\n",
    "#Lo hacemos iterativo\n",
    "for indice, fecha in enumerate(fechas):\n",
    "    #Definimos los datos que se envían como post data\n",
    "    post_data ={'pp1': '1', 'date2':fecha}\n",
    "    response = requests.post(url, data=post_data)\n",
    "    \n",
    "    df_temp = pd.read_html(io.BytesIO(response.content), decimal=',', thousands='.')[0]\n",
    "    \n",
    "    #Si la cantidad de filas no es nula, realizo todos los cambios\n",
    "    if df_temp.shape[0] != 0:\n",
    "    \n",
    "        #Verificamos si hay mult index\n",
    "        if df_temp.columns.nlevels == 2:\n",
    "            df_temp.columns = df_temp.columns.droplevel()\n",
    "\n",
    "        df_temp['Date'] = fecha\n",
    "        \n",
    "        #Hacemos el append\n",
    "        if indice == 0:\n",
    "            df = df_temp.copy()\n",
    "        else:\n",
    "            df = df.append(df_temp, ignore_index=True)            \n",
    "    \n",
    "    else:\n",
    "        continue"
   ]
  },
  {
   "cell_type": "code",
   "execution_count": null,
   "metadata": {},
   "outputs": [],
   "source": [
    "df"
   ]
  },
  {
   "cell_type": "code",
   "execution_count": null,
   "metadata": {},
   "outputs": [],
   "source": []
  }
 ],
 "metadata": {
  "kernelspec": {
   "display_name": "Python 3",
   "language": "python",
   "name": "python3"
  },
  "language_info": {
   "codemirror_mode": {
    "name": "ipython",
    "version": 3
   },
   "file_extension": ".py",
   "mimetype": "text/x-python",
   "name": "python",
   "nbconvert_exporter": "python",
   "pygments_lexer": "ipython3",
   "version": "3.6.8"
  }
 },
 "nbformat": 4,
 "nbformat_minor": 2
}
